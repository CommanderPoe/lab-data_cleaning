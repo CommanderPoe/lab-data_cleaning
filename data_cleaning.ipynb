{
 "cells": [
  {
   "cell_type": "markdown",
   "metadata": {},
   "source": [
    "### #1 Data exploration"
   ]
  },
  {
   "cell_type": "code",
   "execution_count": 1,
   "metadata": {},
   "outputs": [],
   "source": [
    "from IPython.core.interactiveshell import InteractiveShell\n",
    "InteractiveShell.ast_node_interactivity = \"all\""
   ]
  },
  {
   "cell_type": "code",
   "execution_count": null,
   "metadata": {},
   "outputs": [],
   "source": [
    "# Importing all dedicated libraries\n",
    "\n",
    "import pandas as pd\n",
    "import numpy as np\n",
    "import matplotlib.pyplot as plt\n",
    "import seaborn as sns\n",
    "import datetime as dt\n",
    "import warnings\n",
    "warnings.filterwarnings('ignore')\n",
    "#from scipy.stats import shapiro\n",
    "import scipy.stats as st\n",
    "from scipy import stats\n",
    "import re\n",
    "#from sklearn.preprocessing import MinMaxScaler\n",
    "#from sklearn.preprocessing import StandardScaler\n",
    "from sklearn.preprocessing import OneHotEncoder\n",
    "from sklearn.preprocessing import LabelEncoder\n",
    "#from sklearn.model_selection import train_test_split\n",
    "#from sklearn import linear_model\n",
    "#from sklearn.metrics import r2_score\n",
    "#from sklearn.metrics import mean_squared_error\n",
    "#import math\n",
    "#from sklearn.preprocessing import PowerTransformer\n",
    "#import pickle"
   ]
  },
  {
   "cell_type": "code",
   "execution_count": null,
   "metadata": {},
   "outputs": [],
   "source": [
    "# Print whole df if necessary\n",
    "\n",
    "pd.set_option('display.max_rows', 100)"
   ]
  },
  {
   "cell_type": "code",
   "execution_count": null,
   "metadata": {},
   "outputs": [],
   "source": [
    "# Reading files into a DF\n",
    "\n",
    "df = pd.read_csv('./files_for_lab/we_fn_use_c_marketing_customer_value_analysis.csv')"
   ]
  },
  {
   "cell_type": "code",
   "execution_count": null,
   "metadata": {},
   "outputs": [],
   "source": [
    "# Checking the df\n",
    "\n",
    "df.head()"
   ]
  },
  {
   "cell_type": "code",
   "execution_count": null,
   "metadata": {},
   "outputs": [],
   "source": [
    "df.shape"
   ]
  },
  {
   "cell_type": "code",
   "execution_count": null,
   "metadata": {},
   "outputs": [],
   "source": [
    "df.info()"
   ]
  },
  {
   "cell_type": "code",
   "execution_count": null,
   "metadata": {},
   "outputs": [],
   "source": [
    "# Renaming columns\n",
    "#df.rename(columns=lambda x: x.replace(' ', '_').lower())\n",
    "\n",
    "df.columns= df.columns.str.lower().str.replace(' ','_')"
   ]
  },
  {
   "cell_type": "code",
   "execution_count": null,
   "metadata": {},
   "outputs": [],
   "source": [
    "df['effective_to_date'].dtype"
   ]
  },
  {
   "cell_type": "code",
   "execution_count": null,
   "metadata": {},
   "outputs": [],
   "source": [
    "# Fixing datetime col\n",
    "\n",
    "df['effective_to_date'] = pd.to_datetime(df['effective_to_date'])"
   ]
  },
  {
   "cell_type": "code",
   "execution_count": null,
   "metadata": {},
   "outputs": [],
   "source": [
    "df['effective_to_date']"
   ]
  },
  {
   "cell_type": "code",
   "execution_count": null,
   "metadata": {},
   "outputs": [],
   "source": [
    "# Checking nan values\n",
    "\n",
    "df.isnull().sum()"
   ]
  },
  {
   "cell_type": "code",
   "execution_count": null,
   "metadata": {},
   "outputs": [],
   "source": [
    "# Checking duplicated rows\n",
    "\n",
    "df.duplicated().sum()"
   ]
  },
  {
   "cell_type": "code",
   "execution_count": null,
   "metadata": {},
   "outputs": [],
   "source": [
    "df.columns"
   ]
  },
  {
   "cell_type": "code",
   "execution_count": null,
   "metadata": {},
   "outputs": [],
   "source": [
    "# organizing df ... target variable to the last\n",
    "\n",
    "df= df[['customer', 'state', 'customer_lifetime_value', 'response', 'coverage',\n",
    "       'education', 'effective_to_date', 'employmentstatus', 'gender',\n",
    "       'income', 'location_code', 'marital_status', 'monthly_premium_auto',\n",
    "       'months_since_last_claim', 'months_since_policy_inception',\n",
    "       'number_of_open_complaints', 'number_of_policies', 'policy_type',\n",
    "       'policy', 'renew_offer_type', 'sales_channel',\n",
    "       'vehicle_class', 'vehicle_size', 'total_claim_amount']]"
   ]
  },
  {
   "cell_type": "code",
   "execution_count": null,
   "metadata": {},
   "outputs": [],
   "source": [
    "for x in df.columns:\n",
    "    print( x, '|', 'uniques:', len(df[x].unique()), '|', 'type:', df[x].dtypes)"
   ]
  },
  {
   "cell_type": "code",
   "execution_count": null,
   "metadata": {},
   "outputs": [],
   "source": [
    "numerical_cols = df.select_dtypes(np.number).columns\n",
    "categorical_cols = df.select_dtypes(np.object).columns\n",
    "discrete_cols= []\n",
    "num_cols = []"
   ]
  },
  {
   "cell_type": "code",
   "execution_count": null,
   "metadata": {},
   "outputs": [],
   "source": [
    "# Function to return cat/num/dis variables\n",
    "\n",
    "def num_dis_cat(data, tipo= ['cat', 'dis', 'num']):\n",
    "        \n",
    "    if tipo == 'dis':\n",
    "        for x in numerical_cols:\n",
    "            if len(data[x].unique()) < 10:\n",
    "                discrete_cols.append(x)\n",
    "        return data[discrete_cols]\n",
    "    \n",
    "    elif tipo == 'num':\n",
    "        for x in numerical_cols:\n",
    "            if len(data[x].unique()) > 10:\n",
    "                num_cols.append(x)\n",
    "        return data[num_cols]\n",
    "        \n",
    "    else: return data[categorical_cols]"
   ]
  },
  {
   "cell_type": "code",
   "execution_count": null,
   "metadata": {},
   "outputs": [],
   "source": [
    "discretes= num_dis_cat(df, 'dis')\n",
    "numericals= num_dis_cat(df, 'num')\n",
    "categoricals= num_dis_cat(df, 'cat')"
   ]
  },
  {
   "cell_type": "code",
   "execution_count": null,
   "metadata": {},
   "outputs": [],
   "source": [
    "discretes.head()\n",
    "discretes.shape\n",
    "discretes['number_of_open_complaints'].value_counts()\n",
    "discretes['number_of_policies'].value_counts()"
   ]
  },
  {
   "cell_type": "code",
   "execution_count": null,
   "metadata": {},
   "outputs": [],
   "source": [
    "# How can i distribute this variables ??? "
   ]
  },
  {
   "cell_type": "code",
   "execution_count": null,
   "metadata": {},
   "outputs": [],
   "source": [
    "numericals.head()\n",
    "numericals.shape"
   ]
  },
  {
   "cell_type": "code",
   "execution_count": null,
   "metadata": {},
   "outputs": [],
   "source": [
    "categoricals.head()\n",
    "categoricals.shape"
   ]
  },
  {
   "cell_type": "code",
   "execution_count": null,
   "metadata": {},
   "outputs": [],
   "source": []
  },
  {
   "cell_type": "markdown",
   "metadata": {},
   "source": [
    "### Data engineering every single categorical variable. "
   ]
  },
  {
   "cell_type": "code",
   "execution_count": null,
   "metadata": {},
   "outputs": [],
   "source": [
    "categoricals['customer'].unique()"
   ]
  },
  {
   "cell_type": "code",
   "execution_count": null,
   "metadata": {},
   "outputs": [],
   "source": [
    "categoricals['state'].value_counts()/len(categoricals['state'])"
   ]
  },
  {
   "cell_type": "code",
   "execution_count": null,
   "metadata": {},
   "outputs": [],
   "source": [
    "sns.countplot(data= categoricals, x= 'state')"
   ]
  },
  {
   "cell_type": "code",
   "execution_count": null,
   "metadata": {},
   "outputs": [],
   "source": [
    "categoricals['state'].unique()"
   ]
  },
  {
   "cell_type": "code",
   "execution_count": null,
   "metadata": {},
   "outputs": [],
   "source": [
    "# grouping non relevant states\n",
    "\n",
    "rel_states= ['California', 'Oregon']\n",
    "\n",
    "def grouping_states(x):\n",
    "    \n",
    "    if not x in rel_states:\n",
    "        x= 'Other'\n",
    "        return x\n",
    "    else: return x\n",
    "    \n",
    "categoricals['state']= categoricals['state'].apply(grouping_states)"
   ]
  },
  {
   "cell_type": "code",
   "execution_count": null,
   "metadata": {},
   "outputs": [],
   "source": [
    "categoricals['state']= categoricals['state'].replace('California state', 'California')"
   ]
  },
  {
   "cell_type": "code",
   "execution_count": null,
   "metadata": {},
   "outputs": [],
   "source": [
    "categoricals['state'].value_counts()"
   ]
  },
  {
   "cell_type": "code",
   "execution_count": null,
   "metadata": {},
   "outputs": [],
   "source": [
    "sns.countplot(data= categoricals, x= 'state')"
   ]
  },
  {
   "cell_type": "code",
   "execution_count": null,
   "metadata": {},
   "outputs": [],
   "source": [
    "categoricals['response'].value_counts()"
   ]
  },
  {
   "cell_type": "code",
   "execution_count": null,
   "metadata": {},
   "outputs": [],
   "source": [
    "categoricals['coverage'].value_counts()"
   ]
  },
  {
   "cell_type": "code",
   "execution_count": null,
   "metadata": {},
   "outputs": [],
   "source": [
    "sns.countplot(data= categoricals, x= 'education')"
   ]
  },
  {
   "cell_type": "code",
   "execution_count": null,
   "metadata": {},
   "outputs": [],
   "source": [
    "categoricals['education'].value_counts()"
   ]
  },
  {
   "cell_type": "code",
   "execution_count": null,
   "metadata": {},
   "outputs": [],
   "source": [
    "# grouping non relevant states\n",
    "\n",
    "higher_ed= ['Master', 'Doctor']\n",
    "\n",
    "def grouping_education(x):\n",
    "    \n",
    "    if x in higher_ed:\n",
    "        x= 'Higher Education'\n",
    "        return x\n",
    "    else: return x\n",
    "    \n",
    "categoricals['education']= categoricals['education'].apply(grouping_education)"
   ]
  },
  {
   "cell_type": "code",
   "execution_count": null,
   "metadata": {},
   "outputs": [],
   "source": [
    "categoricals['employmentstatus'].value_counts()"
   ]
  },
  {
   "cell_type": "code",
   "execution_count": null,
   "metadata": {},
   "outputs": [],
   "source": [
    "categoricals['gender'].value_counts()"
   ]
  },
  {
   "cell_type": "code",
   "execution_count": null,
   "metadata": {},
   "outputs": [],
   "source": [
    "categoricals['location_code'].value_counts()"
   ]
  },
  {
   "cell_type": "code",
   "execution_count": null,
   "metadata": {},
   "outputs": [],
   "source": [
    "categoricals['marital_status'].value_counts()"
   ]
  },
  {
   "cell_type": "code",
   "execution_count": null,
   "metadata": {},
   "outputs": [],
   "source": [
    "categoricals['policy_type'].value_counts()/len(categoricals['policy_type'])"
   ]
  },
  {
   "cell_type": "code",
   "execution_count": null,
   "metadata": {},
   "outputs": [],
   "source": [
    "# we can assume this 2 columns are pretty much the same\n",
    "\n",
    "categoricals['policy'].value_counts()"
   ]
  },
  {
   "cell_type": "code",
   "execution_count": null,
   "metadata": {},
   "outputs": [],
   "source": [
    "# cleaning policy\n",
    "\n",
    "def cleaning_pol(x):\n",
    "    \n",
    "    if 'Personal' in x:\n",
    "        x= 'Personal'\n",
    "        return x\n",
    "    else: \n",
    "        x= 'Other'\n",
    "        return x\n",
    "    \n",
    "categoricals['policy']= categoricals['policy'].apply(cleaning_pol)"
   ]
  },
  {
   "cell_type": "code",
   "execution_count": null,
   "metadata": {},
   "outputs": [],
   "source": [
    "sns.countplot(x= 'policy', data= categoricals)"
   ]
  },
  {
   "cell_type": "code",
   "execution_count": null,
   "metadata": {},
   "outputs": [],
   "source": [
    "# deleting one of the 2 columns\n",
    "\n",
    "categoricals.drop(columns= 'policy_type', inplace= True)"
   ]
  },
  {
   "cell_type": "code",
   "execution_count": null,
   "metadata": {},
   "outputs": [],
   "source": [
    "categoricals['renew_offer_type'].value_counts()"
   ]
  },
  {
   "cell_type": "code",
   "execution_count": null,
   "metadata": {},
   "outputs": [],
   "source": [
    "# cleaning offers\n",
    "\n",
    "def cleaning_offer(x):\n",
    "    \n",
    "    if '1' in x:\n",
    "        x= re.sub('Offer', '',x)\n",
    "        return x\n",
    "\n",
    "    elif '2' in x:\n",
    "        x= re.sub('Offer', '',x)\n",
    "        return x\n",
    "        \n",
    "    else: \n",
    "        x= re.sub('Offer3|Offer4', '3',x)\n",
    "        return x\n",
    "    \n",
    "categoricals['renew_offer_type']= categoricals['renew_offer_type'].apply(cleaning_offer)"
   ]
  },
  {
   "cell_type": "code",
   "execution_count": null,
   "metadata": {},
   "outputs": [],
   "source": [
    "categoricals['sales_channel']= categoricals['sales_channel'].replace(['Web', 'Call Center'], 'Other')"
   ]
  },
  {
   "cell_type": "code",
   "execution_count": null,
   "metadata": {},
   "outputs": [],
   "source": [
    "categoricals['sales_channel'].value_counts()"
   ]
  },
  {
   "cell_type": "code",
   "execution_count": null,
   "metadata": {},
   "outputs": [],
   "source": [
    "def cleaning_vecl(x):\n",
    "    \n",
    "    if ('SUV' or 'Sport') in x:\n",
    "        x= 'SUV'\n",
    "        return x\n",
    "        \n",
    "    else: \n",
    "        x= 'Standard'\n",
    "        return x\n",
    "\n",
    "categoricals['vehicle_class']= categoricals['vehicle_class'].apply(cleaning_vecl)"
   ]
  },
  {
   "cell_type": "code",
   "execution_count": null,
   "metadata": {},
   "outputs": [],
   "source": [
    "categoricals['vehicle_class'].value_counts()"
   ]
  },
  {
   "cell_type": "code",
   "execution_count": null,
   "metadata": {},
   "outputs": [],
   "source": [
    "categoricals['vehicle_size'].value_counts()"
   ]
  },
  {
   "cell_type": "code",
   "execution_count": null,
   "metadata": {},
   "outputs": [],
   "source": [
    "categoricals.shape\n",
    "categoricals.columns"
   ]
  },
  {
   "cell_type": "code",
   "execution_count": null,
   "metadata": {},
   "outputs": [],
   "source": [
    "categoricals.head()"
   ]
  },
  {
   "cell_type": "code",
   "execution_count": null,
   "metadata": {},
   "outputs": [],
   "source": [
    "# checking dependecy btween variables next to each other\n",
    "\n",
    "for x in range(len(categoricals.columns)-1):\n",
    "    cross = pd.crosstab(categoricals[categoricals.columns[x]], categoricals[categoricals.columns[x+1]], margins = False)\n",
    "    P = st.chi2_contingency(cross)\n",
    "    print('P value of ',categoricals.columns[x], 'and', categoricals.columns[x+1] , P[1])"
   ]
  },
  {
   "cell_type": "code",
   "execution_count": null,
   "metadata": {},
   "outputs": [],
   "source": [
    "# checking the correlation btween certain variables\n",
    "\n",
    "# state location_code (not dependant)\n",
    "crosstab1 = pd.crosstab(categoricals['state'], categoricals['location_code'], margins = False)\n",
    "Pval1= st.chi2_contingency(crosstab1)[1]\n",
    "print('state | location_code', Pval1)\n",
    "# not dependant\n",
    "\n",
    "#sales_channel renwe_offer_type (very dependant)\n",
    "crosstab2 = pd.crosstab(categoricals['sales_channel'], categoricals['renew_offer_type'], margins = False)\n",
    "Pval2= st.chi2_contingency(crosstab2)[1]\n",
    "print('sales_channel | renew_offer_type', Pval2)\n",
    "# dependant\n",
    "\n",
    "#sales_channel renwe_offer_type (very dependant)\n",
    "crosstab3 = pd.crosstab(categoricals['vehicle_class'], categoricals['vehicle_size'], margins = False)\n",
    "Pval3= st.chi2_contingency(crosstab3)[1]\n",
    "print('vehicle_class | vehicle_size', Pval3)\n",
    "# slightly dependant\n",
    "\n",
    "\n",
    "#marital_status employment_status (very dependant)\n",
    "crosstab4 = pd.crosstab(categoricals['employmentstatus'], categoricals['marital_status'], margins = False)\n",
    "Pval4= st.chi2_contingency(crosstab4)[1]\n",
    "print('employmentstatus | marital_status', Pval4)\n",
    "# slightly dependant\n",
    "\n",
    "\n",
    "#renewoffer maritalstatus (very dependant)\n",
    "crosstab4 = pd.crosstab(categoricals['employmentstatus'], categoricals['marital_status'], margins = False)\n",
    "Pval4= st.chi2_contingency(crosstab4)[1]\n",
    "print('employmentstatus | marital_status', Pval4)\n",
    "# slightly dependant"
   ]
  },
  {
   "cell_type": "markdown",
   "metadata": {},
   "source": [
    "### From previous analysis, this is the dataset (categoricals only) that will be used from now on"
   ]
  },
  {
   "cell_type": "code",
   "execution_count": null,
   "metadata": {},
   "outputs": [],
   "source": [
    "categoricals_red= categoricals[['gender', 'coverage', 'employmentstatus', 'location_code', 'policy', 'renew_offer_type', 'vehicle_size']]"
   ]
  },
  {
   "cell_type": "code",
   "execution_count": null,
   "metadata": {},
   "outputs": [],
   "source": [
    "categoricals_red.head()"
   ]
  },
  {
   "cell_type": "code",
   "execution_count": null,
   "metadata": {},
   "outputs": [],
   "source": [
    "# Sizes: Small-> S, Medium-> M, Large-> L.\n",
    "\n",
    "categoricals_red['vehicle_size'].replace({'Medsize':'M', 'Small': 'S', 'Large':'L'}, inplace= True)"
   ]
  },
  {
   "cell_type": "raw",
   "metadata": {},
   "source": [
    "sns.countplot(x= 'vehicle_size', data= categoricals_red)"
   ]
  },
  {
   "cell_type": "raw",
   "metadata": {},
   "source": [
    "sns.countplot(x= 'renew_offer_type', data= categoricals_red)"
   ]
  },
  {
   "cell_type": "code",
   "execution_count": null,
   "metadata": {},
   "outputs": [],
   "source": [
    "# Policies: Personal-> P, Other-> O\n",
    "\n",
    "categoricals_red['policy'].replace({'Personal':'P', 'Other': 'O'}, inplace= True)"
   ]
  },
  {
   "cell_type": "raw",
   "metadata": {},
   "source": [
    "sns.countplot(x= 'policy', data= categoricals_red)"
   ]
  },
  {
   "cell_type": "code",
   "execution_count": null,
   "metadata": {},
   "outputs": [],
   "source": [
    "# Policies: Suburban-> S, Rural-> R, Urban-> U\n",
    "\n",
    "categoricals_red['location_code'].replace({'Suburban':'S', 'Rural': 'R', 'Urban': 'U'}, inplace= True)"
   ]
  },
  {
   "cell_type": "code",
   "execution_count": null,
   "metadata": {},
   "outputs": [],
   "source": [
    "categoricals_red['location_code'].unique()"
   ]
  },
  {
   "cell_type": "raw",
   "metadata": {},
   "source": [
    "categoricals_red[\"location_code\"].map({\"S\" : 0, \"R\" : 1, \"U\" : 2})"
   ]
  },
  {
   "cell_type": "raw",
   "metadata": {},
   "source": [
    "sns.countplot(x= 'location_code', data= categoricals_red)"
   ]
  },
  {
   "cell_type": "code",
   "execution_count": null,
   "metadata": {},
   "outputs": [],
   "source": [
    "# empstatus: Suburban-> S, Rural-> R, Urban-> U\n",
    "\n",
    "#categoricals_red['location_code'].replace({'Suburban':'S', 'Rural': 'R', 'Urban': 'U'}, inplace= True)"
   ]
  },
  {
   "cell_type": "code",
   "execution_count": null,
   "metadata": {},
   "outputs": [],
   "source": [
    "categoricals_red['employmentstatus'].unique()"
   ]
  },
  {
   "cell_type": "raw",
   "metadata": {},
   "source": [
    "sns.countplot(x= 'employmentstatus', data= categoricals_red)"
   ]
  },
  {
   "cell_type": "code",
   "execution_count": null,
   "metadata": {},
   "outputs": [],
   "source": [
    "# grouping status\n",
    "\n",
    "emp_status= ['Unemployed', 'Medical Leave', 'Disabled', 'Retired']\n",
    "\n",
    "def grouping_status(x):\n",
    "    \n",
    "    if x in emp_status:\n",
    "        x= 'O'\n",
    "        return x\n",
    "    else: return 'E'\n",
    "    \n",
    "categoricals_red['employmentstatus']= categoricals_red['employmentstatus'].apply(grouping_status)"
   ]
  },
  {
   "cell_type": "code",
   "execution_count": null,
   "metadata": {},
   "outputs": [],
   "source": [
    "grouping_status('Unemployed')"
   ]
  },
  {
   "cell_type": "code",
   "execution_count": null,
   "metadata": {},
   "outputs": [],
   "source": [
    "# Coverage: Basic-> B, Premium / Extended-> E\n",
    "\n",
    "categoricals_red['coverage'].replace({'Extended':'E', 'Premium': 'E', 'Basic': 'B'}, inplace= True)"
   ]
  },
  {
   "cell_type": "code",
   "execution_count": null,
   "metadata": {},
   "outputs": [],
   "source": [
    "categoricals_red['coverage'].unique()"
   ]
  },
  {
   "cell_type": "raw",
   "metadata": {},
   "source": [
    "sns.countplot(x= 'coverage', data= categoricals_red)"
   ]
  },
  {
   "cell_type": "code",
   "execution_count": null,
   "metadata": {
    "scrolled": true
   },
   "outputs": [],
   "source": [
    "for x in categoricals_red.columns:\n",
    "    plt.show()\n",
    "    print(sns.countplot(x= x, data= categoricals_red))"
   ]
  },
  {
   "cell_type": "code",
   "execution_count": null,
   "metadata": {},
   "outputs": [],
   "source": [
    "# now working on the discrete variables and adding them to the categorical tables\n",
    "\n",
    "discretes.head()\n",
    "\n",
    "for x in discretes.columns:\n",
    "    print (discretes[x].unique())\n",
    "    print (discretes[x].value_counts())"
   ]
  },
  {
   "cell_type": "code",
   "execution_count": null,
   "metadata": {},
   "outputs": [],
   "source": [
    "# checking p-value\n",
    "crosstab5 = pd.crosstab(discretes['number_of_open_complaints'], discretes['number_of_policies'], margins = False)\n",
    "Pval5= st.chi2_contingency(crosstab5)[1]\n",
    "print('number_of_open_complaints | number_of_policies', Pval5)\n",
    "#both discretes varaibles are very dependant on each other, lets keep one"
   ]
  },
  {
   "cell_type": "code",
   "execution_count": null,
   "metadata": {},
   "outputs": [],
   "source": [
    "# putting together teh # of complaints in 0 or 1\n",
    "\n",
    "def complaints(x):\n",
    "\n",
    "    if x > 1:\n",
    "        return 2\n",
    "    else: return x\n",
    "    \n",
    "discretes['number_of_policies']= discretes['number_of_policies'].apply(complaints)"
   ]
  },
  {
   "cell_type": "code",
   "execution_count": null,
   "metadata": {},
   "outputs": [],
   "source": [
    "discretes_red = discretes[['number_of_policies']]"
   ]
  },
  {
   "cell_type": "code",
   "execution_count": null,
   "metadata": {},
   "outputs": [],
   "source": [
    "categoricals_red.head(2)\n",
    "discretes_red.head(2)"
   ]
  },
  {
   "cell_type": "code",
   "execution_count": null,
   "metadata": {},
   "outputs": [],
   "source": [
    "cat_dis = pd.concat([categoricals_red, discretes_red], axis= 1)"
   ]
  },
  {
   "cell_type": "code",
   "execution_count": null,
   "metadata": {},
   "outputs": [],
   "source": [
    "cat_dis.head()"
   ]
  },
  {
   "cell_type": "raw",
   "metadata": {},
   "source": [
    "# Ordinal to coverage\n",
    "categoricals_red[\"coverage\"] = categoricals_red[\"coverage\"].map({\"B\" : 0, \"E\" : 1})\n",
    "\n",
    "# Ordinal to employmentstatus\n",
    "categoricals_red[\"employmentstatus\"] = categoricals_red[\"employmentstatus\"].map({\"E\" : 0, \"O\" : 1})\n",
    "\n",
    "# Ordinal to location code\n",
    "categoricals_red[\"location_code\"] = categoricals_red[\"location_code\"].map({\"U\" : 0, \"R\" : 1, \"S\" : 2})\n",
    "\n",
    "# Ordinal vehicle size\n",
    "categoricals_red[\"vehicle_size\"] = categoricals_red[\"vehicle_size\"].map({\"S\" : 0, \"M\" : 1, \"L\" : 2})"
   ]
  },
  {
   "cell_type": "raw",
   "metadata": {},
   "source": [
    "# One hot to policy\n",
    "\n",
    "encoder = OneHotEncoder(handle_unknown='error', drop='first').fit(categoricals_red[['policy', 'renew_offer_type']])\n",
    "categoricals_encoded = encoder.transform(categoricals_train).toarray()\n",
    "categoricals_test_encoded = encoder.transform(categoricals_test).toarray()"
   ]
  },
  {
   "cell_type": "markdown",
   "metadata": {},
   "source": [
    "### Data engineering every numericals. \n"
   ]
  },
  {
   "cell_type": "raw",
   "metadata": {},
   "source": [
    "categoricals_df = cat\n",
    "continuous_df= num_cat(df, 'num')\n"
   ]
  },
  {
   "cell_type": "raw",
   "metadata": {},
   "source": [
    "categoricals_df.head()\n",
    "continuous_df.head()"
   ]
  },
  {
   "cell_type": "raw",
   "metadata": {},
   "source": [
    "# Describing num variables\n",
    "\n",
    "continous_df.describe()"
   ]
  },
  {
   "cell_type": "raw",
   "metadata": {},
   "source": [
    "# Checking nulls\n",
    "\n",
    "continous_df.isnull().sum()"
   ]
  },
  {
   "cell_type": "raw",
   "metadata": {},
   "source": [
    "# Correlation matrix\n",
    "\n",
    "plt.figure(figsize= (12,8), dpi= 85)\n",
    "\n",
    "corr_matrix = continuous_df.corr()\n",
    "sns.heatmap(corr_matrix, annot=True, cmap= 'magma');"
   ]
  },
  {
   "cell_type": "raw",
   "metadata": {},
   "source": [
    "# Correlation btween continuos variables\n",
    "\n",
    "sns.pairplot(data= continuous_df, diag_kind= 'kde', corner= True)"
   ]
  },
  {
   "cell_type": "raw",
   "metadata": {},
   "source": [
    "# need for data standarization\n",
    "plt.figure(figsize= (12,8), dpi= 85)\n",
    "\n",
    "\n",
    "continuous_df.boxplot()"
   ]
  },
  {
   "cell_type": "raw",
   "metadata": {},
   "source": [
    "# Outliers?\n",
    "\n",
    "fig, axes = plt.subplots(2, 4, figsize=(18, 10))\n",
    "\n",
    "fig.suptitle('Distribution of variables in boxplots')\n",
    "\n",
    "sns.boxplot(ax=axes[0, 0],data= continuous_df, x= 'customer_lifetime_value')\n",
    "sns.boxplot(ax=axes[0, 1],data= continuous_df, x= 'income' )\n",
    "sns.boxplot(ax=axes[0, 2],data= continuous_df, x= 'monthly_premium_auto' )\n",
    "sns.boxplot(ax=axes[0, 3],data= continuous_df, x= 'months_since_last_claim')\n",
    "sns.boxplot(ax=axes[1, 0],data= continuous_df, x= 'months_since_policy_inception')\n",
    "sns.boxplot(ax=axes[1, 1],data= continuous_df, x= 'number_of_open_complaints')\n",
    "sns.boxplot(ax=axes[1, 2],data= continuous_df, x= 'number_of_policies')\n",
    "sns.boxplot(ax=axes[1, 3],data= continuous_df, x= 'total_claim_amount');"
   ]
  },
  {
   "cell_type": "raw",
   "metadata": {},
   "source": [
    "continous_df.columns"
   ]
  },
  {
   "cell_type": "code",
   "execution_count": null,
   "metadata": {},
   "outputs": [],
   "source": []
  },
  {
   "cell_type": "raw",
   "metadata": {},
   "source": []
  },
  {
   "cell_type": "code",
   "execution_count": null,
   "metadata": {},
   "outputs": [],
   "source": []
  },
  {
   "cell_type": "code",
   "execution_count": null,
   "metadata": {},
   "outputs": [],
   "source": []
  },
  {
   "cell_type": "code",
   "execution_count": null,
   "metadata": {},
   "outputs": [],
   "source": []
  },
  {
   "cell_type": "code",
   "execution_count": null,
   "metadata": {},
   "outputs": [],
   "source": []
  },
  {
   "cell_type": "code",
   "execution_count": null,
   "metadata": {},
   "outputs": [],
   "source": []
  },
  {
   "cell_type": "code",
   "execution_count": null,
   "metadata": {},
   "outputs": [],
   "source": []
  },
  {
   "cell_type": "code",
   "execution_count": null,
   "metadata": {},
   "outputs": [],
   "source": []
  },
  {
   "cell_type": "markdown",
   "metadata": {},
   "source": [
    "- Did i properly cleaned up the categorical vars? Does my analysis make any sense?\n",
    "- How to treat the categoricals i cleaned up\n",
    "\n",
    "- Trabajar las variables solo con logs y remover outliers antes de hacer el split.. una vez aplicado el split entonces tocar el minmax y el standard scaler\n",
    "- Que hacer con los outliers??? Quitarlos? la mean? que toeria usar? "
   ]
  }
 ],
 "metadata": {
  "kernelspec": {
   "display_name": "Python 3",
   "language": "python",
   "name": "python3"
  },
  "language_info": {
   "codemirror_mode": {
    "name": "ipython",
    "version": 3
   },
   "file_extension": ".py",
   "mimetype": "text/x-python",
   "name": "python",
   "nbconvert_exporter": "python",
   "pygments_lexer": "ipython3",
   "version": "3.7.4"
  }
 },
 "nbformat": 4,
 "nbformat_minor": 2
}
